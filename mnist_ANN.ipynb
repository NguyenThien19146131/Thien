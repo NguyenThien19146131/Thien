{
  "cells": [
    {
      "cell_type": "markdown",
      "metadata": {
        "id": "view-in-github",
        "colab_type": "text"
      },
      "source": [
        "<a href=\"https://colab.research.google.com/github/NguyenThien19146131/Thien/blob/main/mnist_ANN.ipynb\" target=\"_parent\"><img src=\"https://colab.research.google.com/assets/colab-badge.svg\" alt=\"Open In Colab\"/></a>"
      ]
    },
    {
      "cell_type": "code",
      "execution_count": null,
      "metadata": {
        "colab": {
          "background_save": true,
          "base_uri": "https://localhost:8080/",
          "height": 268
        },
        "id": "wYTG4uo6MguA",
        "outputId": "e6fdd991-eb05-460b-da76-dbd05c790265"
      },
      "outputs": [
        {
          "name": "stdout",
          "output_type": "stream",
          "text": [
            "Downloading data from https://storage.googleapis.com/tensorflow/tf-keras-datasets/mnist.npz\n",
            "11493376/11490434 [==============================] - 0s 0us/step\n",
            "11501568/11490434 [==============================] - 0s 0us/step\n"
          ]
        },
        {
          "data": {
            "image/png": "[encoded data removed]",
            "text/plain": [
              "<Figure size 432x288 with 9 Axes>"
            ]
          },
          "metadata": {},
          "output_type": "display_data"
        }
      ],
      "source": [
        "from keras.datasets import mnist\n",
        "from numpy.ma.core import correlate\n",
        "import numpy as np  \n",
        "import pandas as pd\n",
        "import matplotlib.pyplot as plt\n",
        "import seaborn as sns\n",
        "from sklearn.linear_model import LinearRegression\n",
        "\n",
        "(x_train,y_train),(x_test,y_test)=mnist.load_data()\n",
        "\n",
        "for i in range (9):\n",
        "     plt.subplot(330+i+1)\n",
        "     plt.imshow(x_train[i],cmap=plt.get_cmap('gray'))\n",
        "     \n",
        "plt.show()     "
      ]
    },
    {
      "cell_type": "code",
      "execution_count": null,
      "metadata": {
        "colab": {
          "base_uri": "https://localhost:8080/"
        },
        "id": "66_GRE0eOkrG",
        "outputId": "bb7f38a0-05a3-4d93-df82-84c5999e074d"
      },
      "outputs": [
        {
          "data": {
            "text/plain": [
              "(60000, 28, 28)"
            ]
          },
          "execution_count": 3,
          "metadata": {},
          "output_type": "execute_result"
        }
      ],
      "source": [
        "x_train.shape"
      ]
    },
    {
      "cell_type": "code",
      "execution_count": null,
      "metadata": {
        "id": "_PUQOaAuOkwc"
      },
      "outputs": [],
      "source": [
        "from tensorflow.keras.utils import to_categorical\n",
        "x_train=x_train.reshape(60000,784)\n",
        "x_test=x_test.reshape(10000,784)\n",
        "x_train=x_train.astype('float32')\n",
        "x_test=x_test.astype('float32')\n",
        "x_train/=255\n",
        "x_test/=255\n",
        "y_train=to_categorical(y_train,10)\n",
        "y_test=to_categorical(y_test,10)"
      ]
    },
    {
      "cell_type": "code",
      "execution_count": null,
      "metadata": {
        "colab": {
          "base_uri": "https://localhost:8080/"
        },
        "id": "mDa0UqgMOk1j",
        "outputId": "eca63e33-a5d3-4022-cfa9-a57f5b94a06e"
      },
      "outputs": [
        {
          "name": "stdout",
          "output_type": "stream",
          "text": [
            "Model: \"sequential\"\n",
            "_________________________________________________________________\n",
            " Layer (type)                Output Shape              Param #   \n",
            "=================================================================\n",
            " dense (Dense)               (None, 512)               401920    \n",
            "                                                                 \n",
            " dropout (Dropout)           (None, 512)               0         \n",
            "                                                                 \n",
            " dense_1 (Dense)             (None, 512)               262656    \n",
            "                                                                 \n",
            " dropout_1 (Dropout)         (None, 512)               0         \n",
            "                                                                 \n",
            " dense_2 (Dense)             (None, 10)                5130      \n",
            "                                                                 \n",
            "=================================================================\n",
            "Total params: 669,706\n",
            "Trainable params: 669,706\n",
            "Non-trainable params: 0\n",
            "_________________________________________________________________\n"
          ]
        }
      ],
      "source": [
        "from sklearn.model_selection import train_test_split\n",
        "from keras.models import Sequential\n",
        "from keras.layers import Dense,Activation,Dropout\n",
        "\n",
        "model=Sequential()\n",
        "model.add(Dense(512, activation='relu', input_shape=(784,)))\n",
        "model.add(Dropout(0.2))\n",
        "model.add(Dense(512, activation='relu'))\n",
        "model.add(Dropout(0.2))\n",
        "model.add(Dense(10, activation='softmax'))\n",
        "model.summary()"
      ]
    },
    {
      "cell_type": "code",
      "execution_count": null,
      "metadata": {
        "id": "UfmG_NO5Ok4R"
      },
      "outputs": [],
      "source": [
        "model.compile(loss='categorical_crossentropy',optimizer='RMSprop',metrics=['accuracy'])"
      ]
    },
    {
      "cell_type": "code",
      "execution_count": null,
      "metadata": {
        "colab": {
          "base_uri": "https://localhost:8080/"
        },
        "id": "r7eiLj29Ok93",
        "outputId": "d895ec84-c286-465c-a009-78b909598b31"
      },
      "outputs": [
        {
          "name": "stdout",
          "output_type": "stream",
          "text": [
            "Epoch 1/100\n",
            "469/469 [==============================] - 9s 20ms/step - loss: 0.0161 - accuracy: 0.9963 - val_loss: 0.1551 - val_accuracy: 0.9844\n",
            "Epoch 2/100\n",
            "469/469 [==============================] - 8s 17ms/step - loss: 0.0161 - accuracy: 0.9964 - val_loss: 0.1587 - val_accuracy: 0.9827\n",
            "Epoch 3/100\n",
            "469/469 [==============================] - 8s 17ms/step - loss: 0.0151 - accuracy: 0.9968 - val_loss: 0.1646 - val_accuracy: 0.9832\n",
            "Epoch 4/100\n",
            "469/469 [==============================] - 8s 17ms/step - loss: 0.0154 - accuracy: 0.9966 - val_loss: 0.1552 - val_accuracy: 0.9819\n",
            "Epoch 5/100\n",
            "469/469 [==============================] - 8s 17ms/step - loss: 0.0142 - accuracy: 0.9970 - val_loss: 0.1713 - val_accuracy: 0.9819\n",
            "Epoch 6/100\n",
            "469/469 [==============================] - 8s 17ms/step - loss: 0.0144 - accuracy: 0.9970 - val_loss: 0.1810 - val_accuracy: 0.9836\n",
            "Epoch 7/100\n",
            "469/469 [==============================] - 8s 17ms/step - loss: 0.0131 - accuracy: 0.9972 - val_loss: 0.1695 - val_accuracy: 0.9846\n",
            "Epoch 8/100\n",
            "469/469 [==============================] - 8s 17ms/step - loss: 0.0127 - accuracy: 0.9976 - val_loss: 0.1701 - val_accuracy: 0.9845\n",
            "Epoch 9/100\n",
            "469/469 [==============================] - 8s 17ms/step - loss: 0.0172 - accuracy: 0.9969 - val_loss: 0.1692 - val_accuracy: 0.9836\n",
            "Epoch 10/100\n",
            "469/469 [==============================] - 8s 17ms/step - loss: 0.0126 - accuracy: 0.9970 - val_loss: 0.1768 - val_accuracy: 0.9849\n",
            "Epoch 11/100\n",
            "469/469 [==============================] - 8s 17ms/step - loss: 0.0121 - accuracy: 0.9975 - val_loss: 0.2018 - val_accuracy: 0.9845\n",
            "Epoch 12/100\n",
            "469/469 [==============================] - 8s 17ms/step - loss: 0.0129 - accuracy: 0.9972 - val_loss: 0.2137 - val_accuracy: 0.9837\n",
            "Epoch 13/100\n",
            "469/469 [==============================] - 8s 17ms/step - loss: 0.0146 - accuracy: 0.9971 - val_loss: 0.2089 - val_accuracy: 0.9836\n",
            "Epoch 14/100\n",
            "469/469 [==============================] - 8s 17ms/step - loss: 0.0151 - accuracy: 0.9971 - val_loss: 0.1882 - val_accuracy: 0.9832\n",
            "Epoch 15/100\n",
            "469/469 [==============================] - 8s 17ms/step - loss: 0.0127 - accuracy: 0.9974 - val_loss: 0.1928 - val_accuracy: 0.9833\n",
            "Epoch 16/100\n",
            "469/469 [==============================] - 8s 17ms/step - loss: 0.0136 - accuracy: 0.9972 - val_loss: 0.1890 - val_accuracy: 0.9841\n",
            "Epoch 17/100\n",
            "469/469 [==============================] - 8s 17ms/step - loss: 0.0107 - accuracy: 0.9975 - val_loss: 0.2259 - val_accuracy: 0.9822\n",
            "Epoch 18/100\n",
            "469/469 [==============================] - 8s 17ms/step - loss: 0.0117 - accuracy: 0.9977 - val_loss: 0.2111 - val_accuracy: 0.9846\n",
            "Epoch 19/100\n",
            "469/469 [==============================] - 8s 17ms/step - loss: 0.0112 - accuracy: 0.9979 - val_loss: 0.2153 - val_accuracy: 0.9836\n",
            "Epoch 20/100\n",
            "469/469 [==============================] - 8s 17ms/step - loss: 0.0127 - accuracy: 0.9976 - val_loss: 0.2212 - val_accuracy: 0.9816\n",
            "Epoch 21/100\n",
            "469/469 [==============================] - 8s 17ms/step - loss: 0.0119 - accuracy: 0.9975 - val_loss: 0.1975 - val_accuracy: 0.9855\n",
            "Epoch 22/100\n",
            "469/469 [==============================] - 8s 17ms/step - loss: 0.0138 - accuracy: 0.9973 - val_loss: 0.2296 - val_accuracy: 0.9836\n",
            "Epoch 23/100\n",
            "469/469 [==============================] - 8s 17ms/step - loss: 0.0127 - accuracy: 0.9976 - val_loss: 0.2173 - val_accuracy: 0.9840\n",
            "Epoch 24/100\n",
            "469/469 [==============================] - 8s 17ms/step - loss: 0.0111 - accuracy: 0.9977 - val_loss: 0.2078 - val_accuracy: 0.9835\n",
            "Epoch 25/100\n",
            "469/469 [==============================] - 8s 17ms/step - loss: 0.0101 - accuracy: 0.9980 - val_loss: 0.2260 - val_accuracy: 0.9834\n",
            "Epoch 26/100\n",
            "469/469 [==============================] - 8s 17ms/step - loss: 0.0119 - accuracy: 0.9975 - val_loss: 0.2253 - val_accuracy: 0.9837\n",
            "Epoch 27/100\n",
            "469/469 [==============================] - 8s 17ms/step - loss: 0.0104 - accuracy: 0.9979 - val_loss: 0.2230 - val_accuracy: 0.9843\n",
            "Epoch 28/100\n",
            "469/469 [==============================] - 8s 17ms/step - loss: 0.0115 - accuracy: 0.9979 - val_loss: 0.2309 - val_accuracy: 0.9842\n",
            "Epoch 29/100\n",
            "469/469 [==============================] - 8s 17ms/step - loss: 0.0104 - accuracy: 0.9981 - val_loss: 0.2178 - val_accuracy: 0.9843\n",
            "Epoch 30/100\n",
            "469/469 [==============================] - 8s 17ms/step - loss: 0.0113 - accuracy: 0.9979 - val_loss: 0.2456 - val_accuracy: 0.9819\n",
            "Epoch 31/100\n",
            "469/469 [==============================] - 8s 17ms/step - loss: 0.0126 - accuracy: 0.9975 - val_loss: 0.2072 - val_accuracy: 0.9839\n",
            "Epoch 32/100\n",
            "469/469 [==============================] - 8s 17ms/step - loss: 0.0102 - accuracy: 0.9980 - val_loss: 0.2213 - val_accuracy: 0.9844\n",
            "Epoch 33/100\n",
            "469/469 [==============================] - 8s 17ms/step - loss: 0.0095 - accuracy: 0.9980 - val_loss: 0.2245 - val_accuracy: 0.9841\n",
            "Epoch 34/100\n",
            "469/469 [==============================] - 8s 17ms/step - loss: 0.0135 - accuracy: 0.9978 - val_loss: 0.2071 - val_accuracy: 0.9846\n",
            "Epoch 35/100\n",
            "469/469 [==============================] - 8s 17ms/step - loss: 0.0104 - accuracy: 0.9980 - val_loss: 0.2320 - val_accuracy: 0.9837\n",
            "Epoch 36/100\n",
            "469/469 [==============================] - 8s 17ms/step - loss: 0.0086 - accuracy: 0.9980 - val_loss: 0.2424 - val_accuracy: 0.9836\n",
            "Epoch 37/100\n",
            "469/469 [==============================] - 8s 17ms/step - loss: 0.0090 - accuracy: 0.9982 - val_loss: 0.2505 - val_accuracy: 0.9843\n",
            "Epoch 38/100\n",
            "469/469 [==============================] - 8s 17ms/step - loss: 0.0096 - accuracy: 0.9985 - val_loss: 0.2646 - val_accuracy: 0.9840\n",
            "Epoch 39/100\n",
            "469/469 [==============================] - 8s 17ms/step - loss: 0.0090 - accuracy: 0.9984 - val_loss: 0.2388 - val_accuracy: 0.9846\n",
            "Epoch 40/100\n",
            "469/469 [==============================] - 8s 16ms/step - loss: 0.0105 - accuracy: 0.9981 - val_loss: 0.2597 - val_accuracy: 0.9824\n",
            "Epoch 41/100\n",
            "469/469 [==============================] - 8s 17ms/step - loss: 0.0120 - accuracy: 0.9980 - val_loss: 0.2484 - val_accuracy: 0.9843\n",
            "Epoch 42/100\n",
            "469/469 [==============================] - 8s 17ms/step - loss: 0.0095 - accuracy: 0.9980 - val_loss: 0.2843 - val_accuracy: 0.9824\n",
            "Epoch 43/100\n",
            "469/469 [==============================] - 8s 17ms/step - loss: 0.0092 - accuracy: 0.9984 - val_loss: 0.2609 - val_accuracy: 0.9841\n",
            "Epoch 44/100\n",
            "469/469 [==============================] - 8s 17ms/step - loss: 0.0096 - accuracy: 0.9983 - val_loss: 0.2503 - val_accuracy: 0.9843\n",
            "Epoch 45/100\n",
            "469/469 [==============================] - 8s 17ms/step - loss: 0.0083 - accuracy: 0.9986 - val_loss: 0.2733 - val_accuracy: 0.9852\n",
            "Epoch 46/100\n",
            "469/469 [==============================] - 8s 17ms/step - loss: 0.0100 - accuracy: 0.9981 - val_loss: 0.2255 - val_accuracy: 0.9844\n",
            "Epoch 47/100\n",
            "469/469 [==============================] - 8s 17ms/step - loss: 0.0093 - accuracy: 0.9984 - val_loss: 0.2551 - val_accuracy: 0.9849\n",
            "Epoch 48/100\n",
            "469/469 [==============================] - 8s 17ms/step - loss: 0.0079 - accuracy: 0.9987 - val_loss: 0.2539 - val_accuracy: 0.9842\n",
            "Epoch 49/100\n",
            "469/469 [==============================] - 8s 17ms/step - loss: 0.0125 - accuracy: 0.9981 - val_loss: 0.2669 - val_accuracy: 0.9842\n",
            "Epoch 50/100\n",
            "469/469 [==============================] - 8s 17ms/step - loss: 0.0113 - accuracy: 0.9983 - val_loss: 0.2586 - val_accuracy: 0.9852\n",
            "Epoch 51/100\n",
            "469/469 [==============================] - 8s 17ms/step - loss: 0.0093 - accuracy: 0.9985 - val_loss: 0.2650 - val_accuracy: 0.9839\n",
            "Epoch 52/100\n",
            "469/469 [==============================] - 8s 17ms/step - loss: 0.0080 - accuracy: 0.9984 - val_loss: 0.2502 - val_accuracy: 0.9844\n",
            "Epoch 53/100\n",
            "469/469 [==============================] - 8s 17ms/step - loss: 0.0108 - accuracy: 0.9981 - val_loss: 0.2496 - val_accuracy: 0.9836\n",
            "Epoch 54/100\n",
            "469/469 [==============================] - 8s 17ms/step - loss: 0.0086 - accuracy: 0.9984 - val_loss: 0.2769 - val_accuracy: 0.9839\n",
            "Epoch 55/100\n",
            "469/469 [==============================] - 8s 17ms/step - loss: 0.0110 - accuracy: 0.9983 - val_loss: 0.2894 - val_accuracy: 0.9830\n",
            "Epoch 56/100\n",
            "469/469 [==============================] - 8s 17ms/step - loss: 0.0083 - accuracy: 0.9982 - val_loss: 0.2676 - val_accuracy: 0.9860\n",
            "Epoch 57/100\n",
            "469/469 [==============================] - 8s 17ms/step - loss: 0.0110 - accuracy: 0.9981 - val_loss: 0.2484 - val_accuracy: 0.9845\n",
            "Epoch 58/100\n",
            "469/469 [==============================] - 8s 17ms/step - loss: 0.0073 - accuracy: 0.9984 - val_loss: 0.2641 - val_accuracy: 0.9843\n",
            "Epoch 59/100\n",
            "469/469 [==============================] - 8s 17ms/step - loss: 0.0097 - accuracy: 0.9984 - val_loss: 0.2296 - val_accuracy: 0.9861\n",
            "Epoch 60/100\n",
            "469/469 [==============================] - 8s 17ms/step - loss: 0.0092 - accuracy: 0.9984 - val_loss: 0.2362 - val_accuracy: 0.9858\n",
            "Epoch 61/100\n",
            "469/469 [==============================] - 8s 17ms/step - loss: 0.0088 - accuracy: 0.9985 - val_loss: 0.2419 - val_accuracy: 0.9853\n",
            "Epoch 62/100\n",
            "469/469 [==============================] - 8s 17ms/step - loss: 0.0091 - accuracy: 0.9985 - val_loss: 0.2529 - val_accuracy: 0.9853\n",
            "Epoch 63/100\n",
            "469/469 [==============================] - 8s 17ms/step - loss: 0.0094 - accuracy: 0.9985 - val_loss: 0.2672 - val_accuracy: 0.9854\n",
            "Epoch 64/100\n",
            "469/469 [==============================] - 8s 17ms/step - loss: 0.0093 - accuracy: 0.9983 - val_loss: 0.2682 - val_accuracy: 0.9842\n",
            "Epoch 65/100\n",
            "469/469 [==============================] - 8s 17ms/step - loss: 0.0073 - accuracy: 0.9988 - val_loss: 0.2684 - val_accuracy: 0.9851\n",
            "Epoch 66/100\n",
            "469/469 [==============================] - 8s 17ms/step - loss: 0.0082 - accuracy: 0.9986 - val_loss: 0.2899 - val_accuracy: 0.9851\n",
            "Epoch 67/100\n",
            "469/469 [==============================] - 8s 17ms/step - loss: 0.0086 - accuracy: 0.9986 - val_loss: 0.2951 - val_accuracy: 0.9830\n",
            "Epoch 68/100\n",
            "469/469 [==============================] - 8s 17ms/step - loss: 0.0100 - accuracy: 0.9985 - val_loss: 0.2876 - val_accuracy: 0.9844\n",
            "Epoch 69/100\n",
            "469/469 [==============================] - 8s 17ms/step - loss: 0.0124 - accuracy: 0.9983 - val_loss: 0.2888 - val_accuracy: 0.9839\n",
            "Epoch 70/100\n",
            "469/469 [==============================] - 8s 17ms/step - loss: 0.0118 - accuracy: 0.9985 - val_loss: 0.2867 - val_accuracy: 0.9842\n",
            "Epoch 71/100\n",
            "469/469 [==============================] - 8s 17ms/step - loss: 0.0094 - accuracy: 0.9985 - val_loss: 0.2645 - val_accuracy: 0.9855\n",
            "Epoch 72/100\n",
            "469/469 [==============================] - 8s 17ms/step - loss: 0.0094 - accuracy: 0.9987 - val_loss: 0.2578 - val_accuracy: 0.9867\n",
            "Epoch 73/100\n",
            "469/469 [==============================] - 8s 17ms/step - loss: 0.0106 - accuracy: 0.9984 - val_loss: 0.2592 - val_accuracy: 0.9854\n",
            "Epoch 74/100\n",
            "469/469 [==============================] - 8s 17ms/step - loss: 0.0109 - accuracy: 0.9983 - val_loss: 0.2847 - val_accuracy: 0.9852\n",
            "Epoch 75/100\n",
            "469/469 [==============================] - 8s 17ms/step - loss: 0.0091 - accuracy: 0.9985 - val_loss: 0.2990 - val_accuracy: 0.9844\n",
            "Epoch 76/100\n",
            "469/469 [==============================] - 8s 17ms/step - loss: 0.0099 - accuracy: 0.9986 - val_loss: 0.2902 - val_accuracy: 0.9845\n",
            "Epoch 77/100\n",
            "469/469 [==============================] - 8s 17ms/step - loss: 0.0117 - accuracy: 0.9984 - val_loss: 0.2534 - val_accuracy: 0.9852\n",
            "Epoch 78/100\n",
            "469/469 [==============================] - 8s 17ms/step - loss: 0.0092 - accuracy: 0.9986 - val_loss: 0.2565 - val_accuracy: 0.9856\n",
            "Epoch 79/100\n",
            "469/469 [==============================] - 8s 17ms/step - loss: 0.0095 - accuracy: 0.9985 - val_loss: 0.2694 - val_accuracy: 0.9860\n",
            "Epoch 80/100\n",
            "469/469 [==============================] - 8s 17ms/step - loss: 0.0097 - accuracy: 0.9984 - val_loss: 0.2734 - val_accuracy: 0.9851\n",
            "Epoch 81/100\n",
            "469/469 [==============================] - 8s 17ms/step - loss: 0.0077 - accuracy: 0.9988 - val_loss: 0.2887 - val_accuracy: 0.9843\n",
            "Epoch 82/100\n",
            "469/469 [==============================] - 8s 17ms/step - loss: 0.0099 - accuracy: 0.9984 - val_loss: 0.3233 - val_accuracy: 0.9842\n",
            "Epoch 83/100\n",
            "469/469 [==============================] - 8s 17ms/step - loss: 0.0128 - accuracy: 0.9984 - val_loss: 0.3006 - val_accuracy: 0.9843\n",
            "Epoch 84/100\n",
            "469/469 [==============================] - 8s 17ms/step - loss: 0.0111 - accuracy: 0.9985 - val_loss: 0.2864 - val_accuracy: 0.9843\n",
            "Epoch 85/100\n",
            "469/469 [==============================] - 8s 17ms/step - loss: 0.0082 - accuracy: 0.9985 - val_loss: 0.3219 - val_accuracy: 0.9841\n",
            "Epoch 86/100\n",
            "469/469 [==============================] - 8s 17ms/step - loss: 0.0078 - accuracy: 0.9988 - val_loss: 0.2947 - val_accuracy: 0.9856\n",
            "Epoch 87/100\n",
            "469/469 [==============================] - 8s 17ms/step - loss: 0.0104 - accuracy: 0.9985 - val_loss: 0.2853 - val_accuracy: 0.9853\n",
            "Epoch 88/100\n",
            "469/469 [==============================] - 8s 17ms/step - loss: 0.0089 - accuracy: 0.9989 - val_loss: 0.2904 - val_accuracy: 0.9847\n",
            "Epoch 89/100\n",
            "469/469 [==============================] - 8s 17ms/step - loss: 0.0095 - accuracy: 0.9988 - val_loss: 0.2924 - val_accuracy: 0.9841\n",
            "Epoch 90/100\n",
            "469/469 [==============================] - 8s 17ms/step - loss: 0.0064 - accuracy: 0.9989 - val_loss: 0.3053 - val_accuracy: 0.9846\n",
            "Epoch 91/100\n",
            "469/469 [==============================] - 8s 17ms/step - loss: 0.0083 - accuracy: 0.9990 - val_loss: 0.3029 - val_accuracy: 0.9855\n",
            "Epoch 92/100\n",
            "469/469 [==============================] - 8s 17ms/step - loss: 0.0101 - accuracy: 0.9987 - val_loss: 0.3010 - val_accuracy: 0.9838\n",
            "Epoch 93/100\n",
            "469/469 [==============================] - 8s 17ms/step - loss: 0.0089 - accuracy: 0.9987 - val_loss: 0.3365 - val_accuracy: 0.9838\n",
            "Epoch 94/100\n",
            "469/469 [==============================] - 8s 17ms/step - loss: 0.0096 - accuracy: 0.9986 - val_loss: 0.2979 - val_accuracy: 0.9843\n",
            "Epoch 95/100\n",
            "469/469 [==============================] - 8s 17ms/step - loss: 0.0077 - accuracy: 0.9987 - val_loss: 0.3003 - val_accuracy: 0.9862\n",
            "Epoch 96/100\n",
            "469/469 [==============================] - 8s 17ms/step - loss: 0.0092 - accuracy: 0.9986 - val_loss: 0.2831 - val_accuracy: 0.9860\n",
            "Epoch 97/100\n",
            "469/469 [==============================] - 8s 17ms/step - loss: 0.0084 - accuracy: 0.9987 - val_loss: 0.2917 - val_accuracy: 0.9850\n",
            "Epoch 98/100\n",
            "469/469 [==============================] - 8s 17ms/step - loss: 0.0079 - accuracy: 0.9987 - val_loss: 0.2851 - val_accuracy: 0.9847\n",
            "Epoch 99/100\n",
            "469/469 [==============================] - 8s 17ms/step - loss: 0.0086 - accuracy: 0.9988 - val_loss: 0.3103 - val_accuracy: 0.9849\n",
            "Epoch 100/100\n",
            "469/469 [==============================] - 8s 17ms/step - loss: 0.0080 - accuracy: 0.9990 - val_loss: 0.3198 - val_accuracy: 0.9838\n"
          ]
        }
      ],
      "source": [
        "from keras.callbacks import EarlyStopping\n",
        "history=model.fit(x_train,y_train,batch_size =128, epochs =100,verbose =1,validation_data=(x_test,y_test))"
      ]
    },
    {
      "cell_type": "code",
      "execution_count": null,
      "metadata": {
        "id": "LW46AaieOlAt"
      },
      "outputs": [],
      "source": [
        "model.save('/content/sample_data/ mnist_ANN.h5')"
      ]
    },
    {
      "cell_type": "code",
      "execution_count": null,
      "metadata": {
        "id": "mWfVFFL3xhd9"
      },
      "outputs": [],
      "source": [
        "from tensorflow import keras\n",
        "model=keras.models.load_model('/content/sample_data/fashion_CNN.h5')"
      ]
    },
    {
      "cell_type": "code",
      "execution_count": 11,
      "metadata": {
        "colab": {
          "base_uri": "https://localhost:8080/"
        },
        "id": "DANHektDOlDM",
        "outputId": "515e7dd8-cc27-4ef3-8227-1bb5b58fbf45"
      },
      "outputs": [
        {
          "output_type": "stream",
          "name": "stdout",
          "text": [
            "313/313 [==============================] - 1s 3ms/step - loss: 0.0927 - accuracy: 0.9819\n",
            "\n",
            " Test loss: 0.0927300974726677\n",
            "\n",
            " Test accuracy: 0.9818999767303467\n"
          ]
        }
      ],
      "source": [
        "score = model.evaluate(x_test, y_test, verbose=1)\n",
        "\n",
        "print('\\n', 'Test loss:', score[0])\n",
        "print('\\n', 'Test accuracy:', score[1])"
      ]
    },
    {
      "cell_type": "code",
      "execution_count": null,
      "metadata": {
        "colab": {
          "base_uri": "https://localhost:8080/",
          "height": 364
        },
        "id": "MUJsW9XKOlGl",
        "outputId": "529fac9d-7f06-4bc8-afaf-176f5f0b4469"
      },
      "outputs": [
        {
          "name": "stderr",
          "output_type": "stream",
          "text": [
            "/usr/local/lib/python3.7/dist-packages/ipykernel_launcher.py:6: UserWarning: Legend does not support 't' instances.\n",
            "A proxy artist may be used instead.\n",
            "See: http://matplotlib.org/users/legend_guide.html#creating-artists-specifically-for-adding-to-the-legend-aka-proxy-artists\n",
            "  \n"
          ]
        },
        {
          "data": {
            "image/png": "[encoded data removed]",
            "text/plain": [
              "<Figure size 432x288 with 1 Axes>"
            ]
          },
          "metadata": {},
          "output_type": "display_data"
        }
      ],
      "source": [
        "plt.plot(history.history['accuracy'])\n",
        "plt.plot(history.history['val_accuracy'])\n",
        "plt.title('Model accuracy')\n",
        "plt.ylabel('accuracy')\n",
        "plt.xlabel('epods')\n",
        "plt.legend('train',['validation'],loc='upper left')\n",
        "plt.show()"
      ]
    },
    {
      "cell_type": "code",
      "execution_count": null,
      "metadata": {
        "id": "D08KSeZ-TqA_"
      },
      "outputs": [],
      "source": [
        ""
      ]
    }
  ],
  "metadata": {
    "colab": {
      "collapsed_sections": [],
      "name": " mnist_ANN.ipynb",
      "provenance": [],
      "authorship_tag": "ABX9TyM2VKfHdnPCo5Dv5jWu66Ai",
      "include_colab_link": true
    },
    "kernelspec": {
      "display_name": "Python 3",
      "name": "python3"
    },
    "language_info": {
      "name": "python"
    }
  },
  "nbformat": 4,
  "nbformat_minor": 0
}